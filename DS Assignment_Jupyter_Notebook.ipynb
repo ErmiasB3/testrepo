{
 "cells": [
  {
   "cell_type": "markdown",
   "metadata": {},
   "source": [
    "<center>\n",
    "    <img src=\"https://cf-courses-data.s3.us.cloud-object-storage.appdomain.cloud/IBMDeveloperSkillsNetwork-DS0105EN-SkillsNetwork/labs/Module2/images/SN_web_lightmode.png\" width=\"300\" alt=\"cognitiveclass.ai logo\"  />\n",
    "</center>\n"
   ]
  },
  {
   "cell_type": "markdown",
   "metadata": {},
   "source": [
    "#### Add your code below following the instructions given in the course\n"
   ]
  },
  {
   "cell_type": "markdown",
   "metadata": {},
   "source": [
    "# My Jupyter Notebook on IBM Watson Studio"
   ]
  },
  {
   "cell_type": "markdown",
   "metadata": {},
   "source": [
    "__ERMIAS DILLNESAW BIRATU__ <br>\n",
    "Data Scientist"
   ]
  },
  {
   "cell_type": "markdown",
   "metadata": {},
   "source": [
    "_I am interested in data science because i am passionate about data and analysis and i also strongly believe that i will be able to use it to help solve problems that my country is facing right now in the agricultural industry._"
   ]
  },
  {
   "cell_type": "markdown",
   "metadata": {},
   "source": [
    "### The following will display the product of 3 times 21."
   ]
  },
  {
   "cell_type": "code",
   "execution_count": 2,
   "metadata": {},
   "outputs": [
    {
     "data": {
      "text/plain": [
       "63"
      ]
     },
     "execution_count": 2,
     "metadata": {},
     "output_type": "execute_result"
    }
   ],
   "source": [
    "3*21"
   ]
  },
  {
   "cell_type": "markdown",
   "metadata": {},
   "source": [
    "<br>Some of the basic Github commands are as follows:</br>\n",
    "\n",
    "    1. init\n",
    "    2. add\n",
    "    3. status\n",
    "    4. commit\n",
    "    \n",
    "***\n",
    "<br> For those who are not familier with the Github web site, please click on the below link to access the website:</br>\n",
    "\n",
    "<a>  https://github.com/ Link to Github </a>\n",
    "\n",
    "***\n",
    "<br> Comparison between Git vs. GitHub </br>\n",
    "\n",
    "| Git | GitHub\n",
    "| --- | --- |\n",
    "|Installed locally | Hosted in the Cloud\n",
    "| Primarily a command line tool | Administered through the web\n",
    "| No user management features | Built-in user management\n",
    "| Minimal external tool configuration features | Active marketplace for tool integration |"
   ]
  },
  {
   "cell_type": "code",
   "execution_count": null,
   "metadata": {},
   "outputs": [],
   "source": []
  }
 ],
 "metadata": {
  "kernelspec": {
   "display_name": "Python",
   "language": "python",
   "name": "conda-env-python-py"
  },
  "language_info": {
   "codemirror_mode": {
    "name": "ipython",
    "version": 3
   },
   "file_extension": ".py",
   "mimetype": "text/x-python",
   "name": "python",
   "nbconvert_exporter": "python",
   "pygments_lexer": "ipython3",
   "version": "3.7.12"
  }
 },
 "nbformat": 4,
 "nbformat_minor": 4
}
